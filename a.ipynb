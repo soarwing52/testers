{
 "cells": [
  {
   "cell_type": "markdown",
   "metadata": {},
   "source": []
  },
  {
   "cell_type": "code",
   "execution_count": 50,
   "metadata": {},
   "outputs": [],
   "source": [
    "import pandas as pd"
   ]
  },
  {
   "cell_type": "code",
   "execution_count": 51,
   "metadata": {},
   "outputs": [
    {
     "output_type": "execute_result",
     "data": {
      "text/plain": "['Unnamed: 0',\n '編號',\n '格式名',\n 'Class Name',\n '訂單狀態',\n '訂單日期',\n '訂單歸戶碼',\n '商品歸戶碼',\n '訂購人歸戶碼',\n '其他',\n '備註',\n 'Required headers',\n 'At least required one header：']"
     },
     "metadata": {},
     "execution_count": 51
    }
   ],
   "source": [
    "filename = '~/Downloads/DS2.csv'\n",
    "df = pd.read_csv(filename)\n",
    "list(df)"
   ]
  },
  {
   "cell_type": "code",
   "execution_count": 52,
   "metadata": {},
   "outputs": [],
   "source": [
    "def add_quote(column):\n",
    "    if not isinstance(column,float):\n",
    "        if \"[\" not in column and '\"' not in column:\n",
    "            return '\"{}\"'.format(column)\n",
    "    else:\n",
    "        return None"
   ]
  },
  {
   "cell_type": "code",
   "execution_count": 41,
   "metadata": {},
   "outputs": [
    {
     "output_type": "execute_result",
     "data": {
      "text/plain": "    Unnamed: 0   編號                      格式名            Class Name    訂單狀態  \\\n0          NaN  636           taobaotw\\n淘寶台灣   TAOBAOTW_1588842320    \"狀態\"   \n1          NaN  635  Accupass\\n活動通 2020 訂單資訊   ACCUPASS_1562839149    \"狀態\"   \n2          NaN  634            flyingV\\n群眾募資  FLYINGVCC_1587384346    None   \n3          NaN  562               Yahoo 購物中心      YAHOO_1580700991  \"訂單狀態\"   \n4          NaN  465              Ruten\\n露天拍賣      RUTEN_1576736570  \"交易狀態\"   \n..         ...  ...                      ...                   ...     ...   \n69         NaN  102                      趣遊網   KITRAVEL_1542017179  \"訂單狀態\"   \n70         NaN   90           Pinkoi\\n亞洲領先設計     PINKOI_1539258313  \"訂單類型\"   \n71         NaN   62                      QDM        QDM_1542424000  \"訂單狀態\"   \n72         NaN   43                QDM\\n會員資料        QDM_1545019685    None   \n73         NaN   39            Accupass\\n活動通   ACCUPASS_1562839149    \"狀態\"   \n\n             訂單日期    訂單歸戶碼    商品歸戶碼       訂購人歸戶碼    其他   備註  \\\n0          \"訂單日期\"  \"主訂單編號\"    \"SKU\"         None  \"單價\"  NaN   \n1   \"報名時間(GTM+8)\"   \"訂單編號\"     None         None  None  NaN   \n2        \"訂單建立時間\"     None  \"回饋 ID\"  \"“USER_ID”\"  None  NaN   \n3           \"轉單日\"   \"訂單編號\"  \"供應商料號\"         None  None  NaN   \n4          \"賣出時間\"     None     None         None  None  NaN   \n..            ...      ...      ...          ...   ...  ...   \n69         \"訂單日期\"     None     None         None  None  NaN   \n70       \"訂單成立日期\"     None     None         None  None  NaN   \n71         \"購買日期\"     None     None         None  None  NaN   \n72           None     None     None         None  None  NaN   \n73  \"報名時間(GTM+8)\"     None     None         None  None  NaN   \n\n               Required headers  At least required one header：  \n0                  狀態,主訂單編號,SKU                            NaN  \n1                      狀態,訂單編號,                            NaN  \n2    ,訂單建立時間\" , \"USER_ID\",回饋 ID                            NaN  \n3               訂單狀態,訂單編號,供應商料號                            NaN  \n4   交易狀態,買家帳號 , \"賣出時間\",\"賣家自用料號\"                            NaN  \n..                          ...                            ...  \n69                          NaN                            NaN  \n70                          NaN                            NaN  \n71                          NaN                            NaN  \n72                          NaN                            NaN  \n73                          NaN                            NaN  \n\n[74 rows x 13 columns]",
      "text/html": "<div>\n<style scoped>\n    .dataframe tbody tr th:only-of-type {\n        vertical-align: middle;\n    }\n\n    .dataframe tbody tr th {\n        vertical-align: top;\n    }\n\n    .dataframe thead th {\n        text-align: right;\n    }\n</style>\n<table border=\"1\" class=\"dataframe\">\n  <thead>\n    <tr style=\"text-align: right;\">\n      <th></th>\n      <th>Unnamed: 0</th>\n      <th>編號</th>\n      <th>格式名</th>\n      <th>Class Name</th>\n      <th>訂單狀態</th>\n      <th>訂單日期</th>\n      <th>訂單歸戶碼</th>\n      <th>商品歸戶碼</th>\n      <th>訂購人歸戶碼</th>\n      <th>其他</th>\n      <th>備註</th>\n      <th>Required headers</th>\n      <th>At least required one header：</th>\n    </tr>\n  </thead>\n  <tbody>\n    <tr>\n      <th>0</th>\n      <td>NaN</td>\n      <td>636</td>\n      <td>taobaotw\\n淘寶台灣</td>\n      <td>TAOBAOTW_1588842320</td>\n      <td>\"狀態\"</td>\n      <td>\"訂單日期\"</td>\n      <td>\"主訂單編號\"</td>\n      <td>\"SKU\"</td>\n      <td>None</td>\n      <td>\"單價\"</td>\n      <td>NaN</td>\n      <td>狀態,主訂單編號,SKU</td>\n      <td>NaN</td>\n    </tr>\n    <tr>\n      <th>1</th>\n      <td>NaN</td>\n      <td>635</td>\n      <td>Accupass\\n活動通 2020 訂單資訊</td>\n      <td>ACCUPASS_1562839149</td>\n      <td>\"狀態\"</td>\n      <td>\"報名時間(GTM+8)\"</td>\n      <td>\"訂單編號\"</td>\n      <td>None</td>\n      <td>None</td>\n      <td>None</td>\n      <td>NaN</td>\n      <td>狀態,訂單編號,</td>\n      <td>NaN</td>\n    </tr>\n    <tr>\n      <th>2</th>\n      <td>NaN</td>\n      <td>634</td>\n      <td>flyingV\\n群眾募資</td>\n      <td>FLYINGVCC_1587384346</td>\n      <td>None</td>\n      <td>\"訂單建立時間\"</td>\n      <td>None</td>\n      <td>\"回饋 ID\"</td>\n      <td>\"“USER_ID”\"</td>\n      <td>None</td>\n      <td>NaN</td>\n      <td>,訂單建立時間\" , \"USER_ID\",回饋 ID</td>\n      <td>NaN</td>\n    </tr>\n    <tr>\n      <th>3</th>\n      <td>NaN</td>\n      <td>562</td>\n      <td>Yahoo 購物中心</td>\n      <td>YAHOO_1580700991</td>\n      <td>\"訂單狀態\"</td>\n      <td>\"轉單日\"</td>\n      <td>\"訂單編號\"</td>\n      <td>\"供應商料號\"</td>\n      <td>None</td>\n      <td>None</td>\n      <td>NaN</td>\n      <td>訂單狀態,訂單編號,供應商料號</td>\n      <td>NaN</td>\n    </tr>\n    <tr>\n      <th>4</th>\n      <td>NaN</td>\n      <td>465</td>\n      <td>Ruten\\n露天拍賣</td>\n      <td>RUTEN_1576736570</td>\n      <td>\"交易狀態\"</td>\n      <td>\"賣出時間\"</td>\n      <td>None</td>\n      <td>None</td>\n      <td>None</td>\n      <td>None</td>\n      <td>NaN</td>\n      <td>交易狀態,買家帳號 , \"賣出時間\",\"賣家自用料號\"</td>\n      <td>NaN</td>\n    </tr>\n    <tr>\n      <th>...</th>\n      <td>...</td>\n      <td>...</td>\n      <td>...</td>\n      <td>...</td>\n      <td>...</td>\n      <td>...</td>\n      <td>...</td>\n      <td>...</td>\n      <td>...</td>\n      <td>...</td>\n      <td>...</td>\n      <td>...</td>\n      <td>...</td>\n    </tr>\n    <tr>\n      <th>69</th>\n      <td>NaN</td>\n      <td>102</td>\n      <td>趣遊網</td>\n      <td>KITRAVEL_1542017179</td>\n      <td>\"訂單狀態\"</td>\n      <td>\"訂單日期\"</td>\n      <td>None</td>\n      <td>None</td>\n      <td>None</td>\n      <td>None</td>\n      <td>NaN</td>\n      <td>NaN</td>\n      <td>NaN</td>\n    </tr>\n    <tr>\n      <th>70</th>\n      <td>NaN</td>\n      <td>90</td>\n      <td>Pinkoi\\n亞洲領先設計</td>\n      <td>PINKOI_1539258313</td>\n      <td>\"訂單類型\"</td>\n      <td>\"訂單成立日期\"</td>\n      <td>None</td>\n      <td>None</td>\n      <td>None</td>\n      <td>None</td>\n      <td>NaN</td>\n      <td>NaN</td>\n      <td>NaN</td>\n    </tr>\n    <tr>\n      <th>71</th>\n      <td>NaN</td>\n      <td>62</td>\n      <td>QDM</td>\n      <td>QDM_1542424000</td>\n      <td>\"訂單狀態\"</td>\n      <td>\"購買日期\"</td>\n      <td>None</td>\n      <td>None</td>\n      <td>None</td>\n      <td>None</td>\n      <td>NaN</td>\n      <td>NaN</td>\n      <td>NaN</td>\n    </tr>\n    <tr>\n      <th>72</th>\n      <td>NaN</td>\n      <td>43</td>\n      <td>QDM\\n會員資料</td>\n      <td>QDM_1545019685</td>\n      <td>None</td>\n      <td>None</td>\n      <td>None</td>\n      <td>None</td>\n      <td>None</td>\n      <td>None</td>\n      <td>NaN</td>\n      <td>NaN</td>\n      <td>NaN</td>\n    </tr>\n    <tr>\n      <th>73</th>\n      <td>NaN</td>\n      <td>39</td>\n      <td>Accupass\\n活動通</td>\n      <td>ACCUPASS_1562839149</td>\n      <td>\"狀態\"</td>\n      <td>\"報名時間(GTM+8)\"</td>\n      <td>None</td>\n      <td>None</td>\n      <td>None</td>\n      <td>None</td>\n      <td>NaN</td>\n      <td>NaN</td>\n      <td>NaN</td>\n    </tr>\n  </tbody>\n</table>\n<p>74 rows × 13 columns</p>\n</div>"
     },
     "metadata": {},
     "execution_count": 41
    }
   ],
   "source": [
    "headers = [ '訂單狀態',\n",
    " '訂單日期',\n",
    " '訂單歸戶碼',\n",
    " '商品歸戶碼',\n",
    " '訂購人歸戶碼',\n",
    " '其他']\n",
    "\n",
    "for y in headers:\n",
    "    df[y] = df.apply(lambda x: add_quote(x[y]), axis=1)\n",
    "df"
   ]
  },
  {
   "cell_type": "code",
   "execution_count": 53,
   "metadata": {},
   "outputs": [],
   "source": [
    "df.to_csv('kk.csv')"
   ]
  },
  {
   "cell_type": "code",
   "execution_count": 66,
   "metadata": {},
   "outputs": [],
   "source": [
    "def to_json_formatted(a,b,c,d,e,f):\n",
    "    [\"order_external_id\",\"order_status\",\"order_date\", \"product_external_id\",\"client_external_id\", \"others\"]\n",
    "    data = [a,b,c,d,e,f]\n",
    "    #print(data)\n",
    "    # for n,x in enumerate(data):\n",
    "    #     if x is None:\n",
    "    #         data[n] = \"[]\"\n",
    "    # print(data)\n",
    "    text = '{'+'''\n",
    "        \"order_external_id\":{},\n",
    "        \"order_status\":{},\n",
    "        \"order_date\":{},\n",
    "        \"product_external_id\":{},\n",
    "        \"client_external_id\":{},\n",
    "        \"others\":{}\n",
    "    '''.format(data[1],data[2],data[0],data[3],data[4],data[5]) +'}'\n",
    "    print(text)\n",
    "    return text\n",
    "    \n",
    "\n"
   ]
  },
  {
   "cell_type": "code",
   "execution_count": 67,
   "metadata": {},
   "outputs": [
    {
     "output_type": "error",
     "ename": "KeyError",
     "evalue": "'\\n        \"order_external_id\"'",
     "traceback": [
      "\u001b[0;31m---------------------------------------------------------------------------\u001b[0m",
      "\u001b[0;31mKeyError\u001b[0m                                  Traceback (most recent call last)",
      "\u001b[0;32m<ipython-input-67-2da0142bf03a>\u001b[0m in \u001b[0;36m<module>\u001b[0;34m\u001b[0m\n\u001b[0;32m----> 1\u001b[0;31m df['js'] = df.apply(lambda x: to_json_formatted(\n\u001b[0m\u001b[1;32m      2\u001b[0m     \u001b[0mdf\u001b[0m\u001b[0;34m[\u001b[0m\u001b[0;34m'訂單狀態'\u001b[0m\u001b[0;34m]\u001b[0m\u001b[0;34m,\u001b[0m\u001b[0;34m\u001b[0m\u001b[0;34m\u001b[0m\u001b[0m\n\u001b[1;32m      3\u001b[0m \u001b[0mdf\u001b[0m\u001b[0;34m[\u001b[0m\u001b[0;34m'訂單日期'\u001b[0m\u001b[0;34m]\u001b[0m\u001b[0;34m,\u001b[0m\u001b[0;34m\u001b[0m\u001b[0;34m\u001b[0m\u001b[0m\n\u001b[1;32m      4\u001b[0m  \u001b[0mdf\u001b[0m\u001b[0;34m[\u001b[0m\u001b[0;34m'訂單歸戶碼'\u001b[0m\u001b[0;34m]\u001b[0m\u001b[0;34m,\u001b[0m\u001b[0;34m\u001b[0m\u001b[0;34m\u001b[0m\u001b[0m\n\u001b[1;32m      5\u001b[0m  \u001b[0mdf\u001b[0m\u001b[0;34m[\u001b[0m\u001b[0;34m'商品歸戶碼'\u001b[0m\u001b[0;34m]\u001b[0m\u001b[0;34m,\u001b[0m\u001b[0;34m\u001b[0m\u001b[0;34m\u001b[0m\u001b[0m\n",
      "\u001b[0;32m~/testers/tstenv/lib/python3.8/site-packages/pandas/core/frame.py\u001b[0m in \u001b[0;36mapply\u001b[0;34m(self, func, axis, raw, result_type, args, **kwds)\u001b[0m\n\u001b[1;32m   6876\u001b[0m             \u001b[0mkwds\u001b[0m\u001b[0;34m=\u001b[0m\u001b[0mkwds\u001b[0m\u001b[0;34m,\u001b[0m\u001b[0;34m\u001b[0m\u001b[0;34m\u001b[0m\u001b[0m\n\u001b[1;32m   6877\u001b[0m         )\n\u001b[0;32m-> 6878\u001b[0;31m         \u001b[0;32mreturn\u001b[0m \u001b[0mop\u001b[0m\u001b[0;34m.\u001b[0m\u001b[0mget_result\u001b[0m\u001b[0;34m(\u001b[0m\u001b[0;34m)\u001b[0m\u001b[0;34m\u001b[0m\u001b[0;34m\u001b[0m\u001b[0m\n\u001b[0m\u001b[1;32m   6879\u001b[0m \u001b[0;34m\u001b[0m\u001b[0m\n\u001b[1;32m   6880\u001b[0m     \u001b[0;32mdef\u001b[0m \u001b[0mapplymap\u001b[0m\u001b[0;34m(\u001b[0m\u001b[0mself\u001b[0m\u001b[0;34m,\u001b[0m \u001b[0mfunc\u001b[0m\u001b[0;34m)\u001b[0m \u001b[0;34m->\u001b[0m \u001b[0;34m\"DataFrame\"\u001b[0m\u001b[0;34m:\u001b[0m\u001b[0;34m\u001b[0m\u001b[0;34m\u001b[0m\u001b[0m\n",
      "\u001b[0;32m~/testers/tstenv/lib/python3.8/site-packages/pandas/core/apply.py\u001b[0m in \u001b[0;36mget_result\u001b[0;34m(self)\u001b[0m\n\u001b[1;32m    184\u001b[0m             \u001b[0;32mreturn\u001b[0m \u001b[0mself\u001b[0m\u001b[0;34m.\u001b[0m\u001b[0mapply_raw\u001b[0m\u001b[0;34m(\u001b[0m\u001b[0;34m)\u001b[0m\u001b[0;34m\u001b[0m\u001b[0;34m\u001b[0m\u001b[0m\n\u001b[1;32m    185\u001b[0m \u001b[0;34m\u001b[0m\u001b[0m\n\u001b[0;32m--> 186\u001b[0;31m         \u001b[0;32mreturn\u001b[0m \u001b[0mself\u001b[0m\u001b[0;34m.\u001b[0m\u001b[0mapply_standard\u001b[0m\u001b[0;34m(\u001b[0m\u001b[0;34m)\u001b[0m\u001b[0;34m\u001b[0m\u001b[0;34m\u001b[0m\u001b[0m\n\u001b[0m\u001b[1;32m    187\u001b[0m \u001b[0;34m\u001b[0m\u001b[0m\n\u001b[1;32m    188\u001b[0m     \u001b[0;32mdef\u001b[0m \u001b[0mapply_empty_result\u001b[0m\u001b[0;34m(\u001b[0m\u001b[0mself\u001b[0m\u001b[0;34m)\u001b[0m\u001b[0;34m:\u001b[0m\u001b[0;34m\u001b[0m\u001b[0;34m\u001b[0m\u001b[0m\n",
      "\u001b[0;32m~/testers/tstenv/lib/python3.8/site-packages/pandas/core/apply.py\u001b[0m in \u001b[0;36mapply_standard\u001b[0;34m(self)\u001b[0m\n\u001b[1;32m    293\u001b[0m \u001b[0;34m\u001b[0m\u001b[0m\n\u001b[1;32m    294\u001b[0m             \u001b[0;32mtry\u001b[0m\u001b[0;34m:\u001b[0m\u001b[0;34m\u001b[0m\u001b[0;34m\u001b[0m\u001b[0m\n\u001b[0;32m--> 295\u001b[0;31m                 result = libreduction.compute_reduction(\n\u001b[0m\u001b[1;32m    296\u001b[0m                     \u001b[0mvalues\u001b[0m\u001b[0;34m,\u001b[0m \u001b[0mself\u001b[0m\u001b[0;34m.\u001b[0m\u001b[0mf\u001b[0m\u001b[0;34m,\u001b[0m \u001b[0maxis\u001b[0m\u001b[0;34m=\u001b[0m\u001b[0mself\u001b[0m\u001b[0;34m.\u001b[0m\u001b[0maxis\u001b[0m\u001b[0;34m,\u001b[0m \u001b[0mdummy\u001b[0m\u001b[0;34m=\u001b[0m\u001b[0mdummy\u001b[0m\u001b[0;34m,\u001b[0m \u001b[0mlabels\u001b[0m\u001b[0;34m=\u001b[0m\u001b[0mlabels\u001b[0m\u001b[0;34m\u001b[0m\u001b[0;34m\u001b[0m\u001b[0m\n\u001b[1;32m    297\u001b[0m                 )\n",
      "\u001b[0;32mpandas/_libs/reduction.pyx\u001b[0m in \u001b[0;36mpandas._libs.reduction.compute_reduction\u001b[0;34m()\u001b[0m\n",
      "\u001b[0;32mpandas/_libs/reduction.pyx\u001b[0m in \u001b[0;36mpandas._libs.reduction.Reducer.get_result\u001b[0;34m()\u001b[0m\n",
      "\u001b[0;32m<ipython-input-67-2da0142bf03a>\u001b[0m in \u001b[0;36m<lambda>\u001b[0;34m(x)\u001b[0m\n\u001b[0;32m----> 1\u001b[0;31m df['js'] = df.apply(lambda x: to_json_formatted(\n\u001b[0m\u001b[1;32m      2\u001b[0m     \u001b[0mdf\u001b[0m\u001b[0;34m[\u001b[0m\u001b[0;34m'訂單狀態'\u001b[0m\u001b[0;34m]\u001b[0m\u001b[0;34m,\u001b[0m\u001b[0;34m\u001b[0m\u001b[0;34m\u001b[0m\u001b[0m\n\u001b[1;32m      3\u001b[0m \u001b[0mdf\u001b[0m\u001b[0;34m[\u001b[0m\u001b[0;34m'訂單日期'\u001b[0m\u001b[0;34m]\u001b[0m\u001b[0;34m,\u001b[0m\u001b[0;34m\u001b[0m\u001b[0;34m\u001b[0m\u001b[0m\n\u001b[1;32m      4\u001b[0m  \u001b[0mdf\u001b[0m\u001b[0;34m[\u001b[0m\u001b[0;34m'訂單歸戶碼'\u001b[0m\u001b[0;34m]\u001b[0m\u001b[0;34m,\u001b[0m\u001b[0;34m\u001b[0m\u001b[0;34m\u001b[0m\u001b[0m\n\u001b[1;32m      5\u001b[0m  \u001b[0mdf\u001b[0m\u001b[0;34m[\u001b[0m\u001b[0;34m'商品歸戶碼'\u001b[0m\u001b[0;34m]\u001b[0m\u001b[0;34m,\u001b[0m\u001b[0;34m\u001b[0m\u001b[0;34m\u001b[0m\u001b[0m\n",
      "\u001b[0;32m<ipython-input-66-5d793f010780>\u001b[0m in \u001b[0;36mto_json_formatted\u001b[0;34m(a, b, c, d, e, f)\u001b[0m\n\u001b[1;32m      7\u001b[0m     \u001b[0;31m#         data[n] = \"[]\"\u001b[0m\u001b[0;34m\u001b[0m\u001b[0;34m\u001b[0m\u001b[0;34m\u001b[0m\u001b[0m\n\u001b[1;32m      8\u001b[0m     \u001b[0;31m# print(data)\u001b[0m\u001b[0;34m\u001b[0m\u001b[0;34m\u001b[0m\u001b[0;34m\u001b[0m\u001b[0m\n\u001b[0;32m----> 9\u001b[0;31m     text = '''{\n\u001b[0m\u001b[1;32m     10\u001b[0m         \u001b[0;34m\"order_external_id\"\u001b[0m\u001b[0;34m:\u001b[0m\u001b[0;34m{\u001b[0m\u001b[0;34m}\u001b[0m\u001b[0;34m,\u001b[0m\u001b[0;34m\u001b[0m\u001b[0;34m\u001b[0m\u001b[0m\n\u001b[1;32m     11\u001b[0m         \u001b[0;34m\"order_status\"\u001b[0m\u001b[0;34m:\u001b[0m\u001b[0;34m{\u001b[0m\u001b[0;34m}\u001b[0m\u001b[0;34m,\u001b[0m\u001b[0;34m\u001b[0m\u001b[0;34m\u001b[0m\u001b[0m\n",
      "\u001b[0;31mKeyError\u001b[0m: '\\n        \"order_external_id\"'"
     ]
    }
   ],
   "source": [
    "df['js'] = df.apply(lambda x: to_json_formatted(\n",
    "    df['訂單狀態'],\n",
    "df['訂單日期'],\n",
    " df['訂單歸戶碼'],\n",
    " df['商品歸戶碼'],\n",
    " df['訂購人歸戶碼'],\n",
    " df['其他']),axis=1)\n",
    "#df['js']"
   ]
  },
  {
   "cell_type": "code",
   "execution_count": null,
   "metadata": {},
   "outputs": [],
   "source": []
  }
 ],
 "metadata": {
  "language_info": {
   "codemirror_mode": {
    "name": "ipython",
    "version": 3
   },
   "file_extension": ".py",
   "mimetype": "text/x-python",
   "name": "python",
   "nbconvert_exporter": "python",
   "pygments_lexer": "ipython3",
   "version": "3.8.2-final"
  },
  "orig_nbformat": 2,
  "kernelspec": {
   "name": "python38264bittstenvvenv8735420c5da94b4da7396650ae886914",
   "display_name": "Python 3.8.2 64-bit ('tstenv': venv)"
  }
 },
 "nbformat": 4,
 "nbformat_minor": 2
}